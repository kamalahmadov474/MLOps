{
  "cells": [
    {
      "cell_type": "markdown",
      "metadata": {
        "id": "view-in-github",
        "colab_type": "text"
      },
      "source": [
        "<a href=\"https://colab.research.google.com/github/kamalahmadov474/MLOps/blob/main/Sklearn_Regression_Model_with_MLFlow.ipynb\" target=\"_parent\"><img src=\"https://colab.research.google.com/assets/colab-badge.svg\" alt=\"Open In Colab\"/></a>"
      ]
    },
    {
      "cell_type": "markdown",
      "metadata": {
        "id": "4yWIhBuazW6R"
      },
      "source": [
        "Part 1: Imports and Setup"
      ]
    },
    {
      "cell_type": "code",
      "execution_count": null,
      "metadata": {
        "id": "v1tXHKLMzW6S"
      },
      "outputs": [],
      "source": [
        "import warnings\n",
        "import argparse\n",
        "import logging\n",
        "import pandas as pd\n",
        "import numpy as np\n",
        "from sklearn.metrics import mean_squared_error, mean_absolute_error, r2_score\n",
        "from sklearn.model_selection import train_test_split\n",
        "from sklearn.linear_model import ElasticNet\n",
        "import os\n",
        "import sys\n",
        "import mlflow\n",
        "import mlflow.sklearn\n",
        "\n",
        "# Logging setup\n",
        "logging.basicConfig(level=logging.WARN)\n",
        "logger = logging.getLogger(__name__)\n",
        "\n",
        "# Command-line arguments\n",
        "parser = argparse.ArgumentParser()\n",
        "parser.add_argument(\"--alpha\", type=float, required=False, default=0.5)\n",
        "parser.add_argument(\"--l1_ratio\", type=float, required=False, default=0.5)\n",
        "\n",
        "# Prevent Jupyter from passing unwanted args\n",
        "args, unknown = parser.parse_known_args(sys.argv[1:])"
      ]
    },
    {
      "cell_type": "markdown",
      "metadata": {
        "id": "fqQV8_XAzW6S"
      },
      "source": [
        "Part 2: Evaluation Function"
      ]
    },
    {
      "cell_type": "code",
      "execution_count": null,
      "metadata": {
        "id": "35wA2Tc1zW6S"
      },
      "outputs": [],
      "source": [
        "# Define function to evaluate model performance\n",
        "def eval_metrics(actual, pred):\n",
        "    rmse = np.sqrt(mean_squared_error(actual, pred))\n",
        "    mae = mean_absolute_error(actual, pred)\n",
        "    r2 = r2_score(actual, pred)\n",
        "    return rmse, mae, r2"
      ]
    },
    {
      "cell_type": "markdown",
      "metadata": {
        "id": "E6D4-P0nzW6S"
      },
      "source": [
        "Part 3: Main Program"
      ]
    },
    {
      "cell_type": "code",
      "execution_count": null,
      "metadata": {
        "id": "Z3hZBJL2zW6T"
      },
      "outputs": [],
      "source": [
        "if __name__ == \"__main__\":\n",
        "    warnings.filterwarnings(\"ignore\")\n",
        "    np.random.seed(40)\n",
        "\n",
        "    # Read the wine-quality csv file from local\n",
        "    data = pd.read_csv(r\"C:\\Users\\TUF\\Downloads\\red-wine-quality.csv\")\n",
        "\n",
        "    # Ensure \"data\" folder exists before saving\n",
        "    os.makedirs(\"data\", exist_ok=True)\n",
        "    data.to_csv(\"data/red-wine-quality.csv\", index=False)"
      ]
    },
    {
      "cell_type": "markdown",
      "metadata": {
        "id": "IrR8ByVDzW6T"
      },
      "source": [
        "Part 4: Data Preparation"
      ]
    },
    {
      "cell_type": "code",
      "execution_count": null,
      "metadata": {
        "id": "esv_X7M0zW6T"
      },
      "outputs": [],
      "source": [
        "    # Split the data into training and test sets (75% train, 25% test)\n",
        "    train, test = train_test_split(data)\n",
        "\n",
        "    # Separate features (X) and target (y)\n",
        "    train_x = train.drop([\"quality\"], axis=1)\n",
        "    test_x = test.drop([\"quality\"], axis=1)\n",
        "    train_y = train[[\"quality\"]]\n",
        "    test_y = test[[\"quality\"]]"
      ]
    },
    {
      "cell_type": "markdown",
      "metadata": {
        "id": "POz9BiNlzW6T"
      },
      "source": [
        "Part 5: Model Training"
      ]
    },
    {
      "cell_type": "code",
      "execution_count": null,
      "metadata": {
        "id": "wC7H5CsRzW6T",
        "outputId": "9816495e-7526-4fa2-a4bc-c8e81516a955"
      },
      "outputs": [
        {
          "name": "stderr",
          "output_type": "stream",
          "text": [
            "2025/09/14 23:53:10 INFO mlflow.tracking.fluent: Experiment with name 'experiment_1' does not exist. Creating a new experiment.\n"
          ]
        }
      ],
      "source": [
        "    # Get hyperparameters from arguments\n",
        "    alpha = args.alpha\n",
        "    l1_ratio = args.l1_ratio\n",
        "    exp = mlflow.set_experiment(experiment_name=\"experiment_1\")\n",
        "\n",
        "    with mlflow.start_run(experiment_id = exp.experiment_id):\n",
        "\n",
        "        # Initialize ElasticNet model\n",
        "        lr = ElasticNet(alpha=alpha, l1_ratio=l1_ratio, random_state=42)\n",
        "\n",
        "        # Train model\n",
        "        lr.fit(train_x, train_y)"
      ]
    },
    {
      "cell_type": "markdown",
      "metadata": {
        "id": "L6IpnDyazW6T"
      },
      "source": [
        "Part 6: Prediction and Evaluation"
      ]
    },
    {
      "cell_type": "code",
      "execution_count": null,
      "metadata": {
        "id": "tC_b-DELzW6T",
        "outputId": "220c081e-3484-4d4f-c331-1f052ba3377b"
      },
      "outputs": [
        {
          "name": "stderr",
          "output_type": "stream",
          "text": [
            "2025/09/14 23:53:52 WARNING mlflow.models.model: `artifact_path` is deprecated. Please use `name` instead.\n"
          ]
        },
        {
          "name": "stdout",
          "output_type": "stream",
          "text": [
            "Elasticnet model (alpha=0.500000, l1_ratio=0.500000):\n",
            "  RMSE: 0.7931754052219389\n",
            "  MAE: 0.6271747530439468\n",
            "  R2: 0.1086008664957151\n"
          ]
        },
        {
          "name": "stderr",
          "output_type": "stream",
          "text": [
            "2025/09/14 23:53:55 WARNING mlflow.models.model: Model logged without a signature and input example. Please set `input_example` parameter when logging the model to auto infer the model signature.\n"
          ]
        },
        {
          "data": {
            "text/plain": [
              "<mlflow.models.model.ModelInfo at 0x2605e8d61b0>"
            ]
          },
          "execution_count": 8,
          "metadata": {},
          "output_type": "execute_result"
        }
      ],
      "source": [
        "    # Make predictions\n",
        "    predicted_qualities = lr.predict(test_x)\n",
        "\n",
        "    # Evaluate predictions\n",
        "    (rmse, mae, r2) = eval_metrics(test_y, predicted_qualities)\n",
        "\n",
        "    # Print results\n",
        "    print(\"Elasticnet model (alpha={:f}, l1_ratio={:f}):\".format(alpha, l1_ratio))\n",
        "    print(\"  RMSE: %s\" % rmse)\n",
        "    print(\"  MAE: %s\" % mae)\n",
        "    print(\"  R2: %s\" % r2)\n",
        "\n",
        "    mlflow.log_param(\"alpha\", alpha)\n",
        "    mlflow.log_param(\"l1_ratio\", l1_ratio)\n",
        "    mlflow.log_metric(\"rmse\", rmse)\n",
        "    mlflow.log_metric(\"r2\", r2)\n",
        "    mlflow.log_metric(\"mae\", mae)\n",
        "    mlflow.sklearn.log_model(lr, \"mymodel\")"
      ]
    }
  ],
  "metadata": {
    "kernelspec": {
      "display_name": ".conda",
      "language": "python",
      "name": "python3"
    },
    "language_info": {
      "codemirror_mode": {
        "name": "ipython",
        "version": 3
      },
      "file_extension": ".py",
      "mimetype": "text/x-python",
      "name": "python",
      "nbconvert_exporter": "python",
      "pygments_lexer": "ipython3",
      "version": "3.12.11"
    },
    "colab": {
      "provenance": [],
      "include_colab_link": true
    }
  },
  "nbformat": 4,
  "nbformat_minor": 0
}